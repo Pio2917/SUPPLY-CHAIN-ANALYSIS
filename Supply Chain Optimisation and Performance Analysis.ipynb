{
 "cells": [
  {
   "cell_type": "markdown",
   "id": "08f79494",
   "metadata": {},
   "source": [
    "**Step 1: Data Acquisition, Loading & Understanding**\n",
    "\n"
   ]
  },
  {
   "cell_type": "code",
   "execution_count": 2,
   "id": "2429b4ba",
   "metadata": {},
   "outputs": [],
   "source": [
    "# Import the necessary libraries\n",
    "import pandas as pd\n",
    "import numpy as np\n",
    "import matplotlib.pyplot as plt\n",
    "import seaborn as sns\n",
    "\n",
    "# Load the file into a Pandas DataFrame.\n",
    "try:\n",
    "    df = pd.read_csv('supply_chain_data.csv')\n",
    "except FileNotFoundError:\n",
    "    print(\"The file 'e_commerce_data.csv' was not found. Please ensure the file is in the correct directory.\")"
   ]
  },
  {
   "cell_type": "code",
   "execution_count": 3,
   "id": "1a03a059",
   "metadata": {},
   "outputs": [
    {
     "data": {
      "application/vnd.microsoft.datawrangler.viewer.v0+json": {
       "columns": [
        {
         "name": "index",
         "rawType": "int64",
         "type": "integer"
        },
        {
         "name": "Product type",
         "rawType": "object",
         "type": "string"
        },
        {
         "name": "SKU",
         "rawType": "object",
         "type": "string"
        },
        {
         "name": "Price",
         "rawType": "float64",
         "type": "float"
        },
        {
         "name": "Availability",
         "rawType": "int64",
         "type": "integer"
        },
        {
         "name": "Number of products sold",
         "rawType": "int64",
         "type": "integer"
        },
        {
         "name": "Revenue generated",
         "rawType": "float64",
         "type": "float"
        },
        {
         "name": "Customer demographics",
         "rawType": "object",
         "type": "string"
        },
        {
         "name": "Stock levels",
         "rawType": "int64",
         "type": "integer"
        },
        {
         "name": "Lead times",
         "rawType": "int64",
         "type": "integer"
        },
        {
         "name": "Order quantities",
         "rawType": "int64",
         "type": "integer"
        },
        {
         "name": "Shipping times",
         "rawType": "int64",
         "type": "integer"
        },
        {
         "name": "Shipping carriers",
         "rawType": "object",
         "type": "string"
        },
        {
         "name": "Shipping costs",
         "rawType": "float64",
         "type": "float"
        },
        {
         "name": "Supplier name",
         "rawType": "object",
         "type": "string"
        },
        {
         "name": "Location",
         "rawType": "object",
         "type": "string"
        },
        {
         "name": "Lead time",
         "rawType": "int64",
         "type": "integer"
        },
        {
         "name": "Production volumes",
         "rawType": "int64",
         "type": "integer"
        },
        {
         "name": "Manufacturing lead time",
         "rawType": "int64",
         "type": "integer"
        },
        {
         "name": "Manufacturing costs",
         "rawType": "float64",
         "type": "float"
        },
        {
         "name": "Inspection results",
         "rawType": "object",
         "type": "string"
        },
        {
         "name": "Defect rates",
         "rawType": "float64",
         "type": "float"
        },
        {
         "name": "Transportation modes",
         "rawType": "object",
         "type": "string"
        },
        {
         "name": "Routes",
         "rawType": "object",
         "type": "string"
        },
        {
         "name": "Costs",
         "rawType": "float64",
         "type": "float"
        }
       ],
       "ref": "d9733a65-e4d7-432d-94e4-36970e0bb249",
       "rows": [
        [
         "0",
         "haircare",
         "SKU0",
         "69.80800554211577",
         "55",
         "802",
         "8661.996792392383",
         "Non-binary",
         "58",
         "7",
         "96",
         "4",
         "Carrier B",
         "2.956572139430807",
         "Supplier 3",
         "Mumbai",
         "29",
         "215",
         "29",
         "46.27987924050832",
         "Pending",
         "0.2264103608499251",
         "Road",
         "Route B",
         "187.75207545920392"
        ],
        [
         "1",
         "skincare",
         "SKU1",
         "14.84352327508434",
         "95",
         "736",
         "7460.900065445849",
         "Female",
         "53",
         "30",
         "37",
         "2",
         "Carrier A",
         "9.71657477143131",
         "Supplier 3",
         "Mumbai",
         "23",
         "517",
         "30",
         "33.61676895373",
         "Pending",
         "4.854068026388706",
         "Road",
         "Route B",
         "503.0655791496692"
        ],
        [
         "2",
         "haircare",
         "SKU2",
         "11.319683293090566",
         "34",
         "8",
         "9577.74962586873",
         "Unknown",
         "1",
         "10",
         "88",
         "2",
         "Carrier B",
         "8.054479261732155",
         "Supplier 1",
         "Mumbai",
         "12",
         "971",
         "27",
         "30.688019348284204",
         "Pending",
         "4.580592619199229",
         "Air",
         "Route C",
         "141.92028177151906"
        ],
        [
         "3",
         "skincare",
         "SKU3",
         "61.163343016437736",
         "68",
         "83",
         "7766.836425685233",
         "Non-binary",
         "23",
         "13",
         "59",
         "6",
         "Carrier C",
         "1.7295685635434288",
         "Supplier 5",
         "Kolkata",
         "24",
         "937",
         "18",
         "35.62474139712503",
         "Fail",
         "4.74664862064775",
         "Rail",
         "Route A",
         "254.77615921928663"
        ],
        [
         "4",
         "skincare",
         "SKU4",
         "4.805496036345893",
         "26",
         "871",
         "2686.505151567447",
         "Non-binary",
         "5",
         "3",
         "56",
         "8",
         "Carrier A",
         "3.890547915870672",
         "Supplier 1",
         "Delhi",
         "5",
         "414",
         "3",
         "92.06516059871284",
         "Fail",
         "3.145579522833002",
         "Air",
         "Route A",
         "923.4406317119222"
        ]
       ],
       "shape": {
        "columns": 24,
        "rows": 5
       }
      },
      "text/html": [
       "<div>\n",
       "<style scoped>\n",
       "    .dataframe tbody tr th:only-of-type {\n",
       "        vertical-align: middle;\n",
       "    }\n",
       "\n",
       "    .dataframe tbody tr th {\n",
       "        vertical-align: top;\n",
       "    }\n",
       "\n",
       "    .dataframe thead th {\n",
       "        text-align: right;\n",
       "    }\n",
       "</style>\n",
       "<table border=\"1\" class=\"dataframe\">\n",
       "  <thead>\n",
       "    <tr style=\"text-align: right;\">\n",
       "      <th></th>\n",
       "      <th>Product type</th>\n",
       "      <th>SKU</th>\n",
       "      <th>Price</th>\n",
       "      <th>Availability</th>\n",
       "      <th>Number of products sold</th>\n",
       "      <th>Revenue generated</th>\n",
       "      <th>Customer demographics</th>\n",
       "      <th>Stock levels</th>\n",
       "      <th>Lead times</th>\n",
       "      <th>Order quantities</th>\n",
       "      <th>...</th>\n",
       "      <th>Location</th>\n",
       "      <th>Lead time</th>\n",
       "      <th>Production volumes</th>\n",
       "      <th>Manufacturing lead time</th>\n",
       "      <th>Manufacturing costs</th>\n",
       "      <th>Inspection results</th>\n",
       "      <th>Defect rates</th>\n",
       "      <th>Transportation modes</th>\n",
       "      <th>Routes</th>\n",
       "      <th>Costs</th>\n",
       "    </tr>\n",
       "  </thead>\n",
       "  <tbody>\n",
       "    <tr>\n",
       "      <th>0</th>\n",
       "      <td>haircare</td>\n",
       "      <td>SKU0</td>\n",
       "      <td>69.808006</td>\n",
       "      <td>55</td>\n",
       "      <td>802</td>\n",
       "      <td>8661.996792</td>\n",
       "      <td>Non-binary</td>\n",
       "      <td>58</td>\n",
       "      <td>7</td>\n",
       "      <td>96</td>\n",
       "      <td>...</td>\n",
       "      <td>Mumbai</td>\n",
       "      <td>29</td>\n",
       "      <td>215</td>\n",
       "      <td>29</td>\n",
       "      <td>46.279879</td>\n",
       "      <td>Pending</td>\n",
       "      <td>0.226410</td>\n",
       "      <td>Road</td>\n",
       "      <td>Route B</td>\n",
       "      <td>187.752075</td>\n",
       "    </tr>\n",
       "    <tr>\n",
       "      <th>1</th>\n",
       "      <td>skincare</td>\n",
       "      <td>SKU1</td>\n",
       "      <td>14.843523</td>\n",
       "      <td>95</td>\n",
       "      <td>736</td>\n",
       "      <td>7460.900065</td>\n",
       "      <td>Female</td>\n",
       "      <td>53</td>\n",
       "      <td>30</td>\n",
       "      <td>37</td>\n",
       "      <td>...</td>\n",
       "      <td>Mumbai</td>\n",
       "      <td>23</td>\n",
       "      <td>517</td>\n",
       "      <td>30</td>\n",
       "      <td>33.616769</td>\n",
       "      <td>Pending</td>\n",
       "      <td>4.854068</td>\n",
       "      <td>Road</td>\n",
       "      <td>Route B</td>\n",
       "      <td>503.065579</td>\n",
       "    </tr>\n",
       "    <tr>\n",
       "      <th>2</th>\n",
       "      <td>haircare</td>\n",
       "      <td>SKU2</td>\n",
       "      <td>11.319683</td>\n",
       "      <td>34</td>\n",
       "      <td>8</td>\n",
       "      <td>9577.749626</td>\n",
       "      <td>Unknown</td>\n",
       "      <td>1</td>\n",
       "      <td>10</td>\n",
       "      <td>88</td>\n",
       "      <td>...</td>\n",
       "      <td>Mumbai</td>\n",
       "      <td>12</td>\n",
       "      <td>971</td>\n",
       "      <td>27</td>\n",
       "      <td>30.688019</td>\n",
       "      <td>Pending</td>\n",
       "      <td>4.580593</td>\n",
       "      <td>Air</td>\n",
       "      <td>Route C</td>\n",
       "      <td>141.920282</td>\n",
       "    </tr>\n",
       "    <tr>\n",
       "      <th>3</th>\n",
       "      <td>skincare</td>\n",
       "      <td>SKU3</td>\n",
       "      <td>61.163343</td>\n",
       "      <td>68</td>\n",
       "      <td>83</td>\n",
       "      <td>7766.836426</td>\n",
       "      <td>Non-binary</td>\n",
       "      <td>23</td>\n",
       "      <td>13</td>\n",
       "      <td>59</td>\n",
       "      <td>...</td>\n",
       "      <td>Kolkata</td>\n",
       "      <td>24</td>\n",
       "      <td>937</td>\n",
       "      <td>18</td>\n",
       "      <td>35.624741</td>\n",
       "      <td>Fail</td>\n",
       "      <td>4.746649</td>\n",
       "      <td>Rail</td>\n",
       "      <td>Route A</td>\n",
       "      <td>254.776159</td>\n",
       "    </tr>\n",
       "    <tr>\n",
       "      <th>4</th>\n",
       "      <td>skincare</td>\n",
       "      <td>SKU4</td>\n",
       "      <td>4.805496</td>\n",
       "      <td>26</td>\n",
       "      <td>871</td>\n",
       "      <td>2686.505152</td>\n",
       "      <td>Non-binary</td>\n",
       "      <td>5</td>\n",
       "      <td>3</td>\n",
       "      <td>56</td>\n",
       "      <td>...</td>\n",
       "      <td>Delhi</td>\n",
       "      <td>5</td>\n",
       "      <td>414</td>\n",
       "      <td>3</td>\n",
       "      <td>92.065161</td>\n",
       "      <td>Fail</td>\n",
       "      <td>3.145580</td>\n",
       "      <td>Air</td>\n",
       "      <td>Route A</td>\n",
       "      <td>923.440632</td>\n",
       "    </tr>\n",
       "  </tbody>\n",
       "</table>\n",
       "<p>5 rows × 24 columns</p>\n",
       "</div>"
      ],
      "text/plain": [
       "  Product type   SKU      Price  Availability  Number of products sold  \\\n",
       "0     haircare  SKU0  69.808006            55                      802   \n",
       "1     skincare  SKU1  14.843523            95                      736   \n",
       "2     haircare  SKU2  11.319683            34                        8   \n",
       "3     skincare  SKU3  61.163343            68                       83   \n",
       "4     skincare  SKU4   4.805496            26                      871   \n",
       "\n",
       "   Revenue generated Customer demographics  Stock levels  Lead times  \\\n",
       "0        8661.996792            Non-binary            58           7   \n",
       "1        7460.900065                Female            53          30   \n",
       "2        9577.749626               Unknown             1          10   \n",
       "3        7766.836426            Non-binary            23          13   \n",
       "4        2686.505152            Non-binary             5           3   \n",
       "\n",
       "   Order quantities  ...  Location Lead time  Production volumes  \\\n",
       "0                96  ...    Mumbai        29                 215   \n",
       "1                37  ...    Mumbai        23                 517   \n",
       "2                88  ...    Mumbai        12                 971   \n",
       "3                59  ...   Kolkata        24                 937   \n",
       "4                56  ...     Delhi         5                 414   \n",
       "\n",
       "  Manufacturing lead time Manufacturing costs  Inspection results  \\\n",
       "0                      29           46.279879             Pending   \n",
       "1                      30           33.616769             Pending   \n",
       "2                      27           30.688019             Pending   \n",
       "3                      18           35.624741                Fail   \n",
       "4                       3           92.065161                Fail   \n",
       "\n",
       "   Defect rates  Transportation modes   Routes       Costs  \n",
       "0      0.226410                  Road  Route B  187.752075  \n",
       "1      4.854068                  Road  Route B  503.065579  \n",
       "2      4.580593                   Air  Route C  141.920282  \n",
       "3      4.746649                  Rail  Route A  254.776159  \n",
       "4      3.145580                   Air  Route A  923.440632  \n",
       "\n",
       "[5 rows x 24 columns]"
      ]
     },
     "execution_count": 3,
     "metadata": {},
     "output_type": "execute_result"
    }
   ],
   "source": [
    "# Display the first 5 rows to verify\n",
    "df.head()\n"
   ]
  },
  {
   "cell_type": "code",
   "execution_count": 4,
   "id": "17ecfde6",
   "metadata": {},
   "outputs": [
    {
     "data": {
      "application/vnd.microsoft.datawrangler.viewer.v0+json": {
       "columns": [
        {
         "name": "index",
         "rawType": "int64",
         "type": "integer"
        },
        {
         "name": "Product type",
         "rawType": "object",
         "type": "string"
        },
        {
         "name": "SKU",
         "rawType": "object",
         "type": "string"
        },
        {
         "name": "Price",
         "rawType": "float64",
         "type": "float"
        },
        {
         "name": "Availability",
         "rawType": "int64",
         "type": "integer"
        },
        {
         "name": "Number of products sold",
         "rawType": "int64",
         "type": "integer"
        },
        {
         "name": "Revenue generated",
         "rawType": "float64",
         "type": "float"
        },
        {
         "name": "Customer demographics",
         "rawType": "object",
         "type": "string"
        },
        {
         "name": "Stock levels",
         "rawType": "int64",
         "type": "integer"
        },
        {
         "name": "Lead times",
         "rawType": "int64",
         "type": "integer"
        },
        {
         "name": "Order quantities",
         "rawType": "int64",
         "type": "integer"
        },
        {
         "name": "Shipping times",
         "rawType": "int64",
         "type": "integer"
        },
        {
         "name": "Shipping carriers",
         "rawType": "object",
         "type": "string"
        },
        {
         "name": "Shipping costs",
         "rawType": "float64",
         "type": "float"
        },
        {
         "name": "Supplier name",
         "rawType": "object",
         "type": "string"
        },
        {
         "name": "Location",
         "rawType": "object",
         "type": "string"
        },
        {
         "name": "Lead time",
         "rawType": "int64",
         "type": "integer"
        },
        {
         "name": "Production volumes",
         "rawType": "int64",
         "type": "integer"
        },
        {
         "name": "Manufacturing lead time",
         "rawType": "int64",
         "type": "integer"
        },
        {
         "name": "Manufacturing costs",
         "rawType": "float64",
         "type": "float"
        },
        {
         "name": "Inspection results",
         "rawType": "object",
         "type": "string"
        },
        {
         "name": "Defect rates",
         "rawType": "float64",
         "type": "float"
        },
        {
         "name": "Transportation modes",
         "rawType": "object",
         "type": "string"
        },
        {
         "name": "Routes",
         "rawType": "object",
         "type": "string"
        },
        {
         "name": "Costs",
         "rawType": "float64",
         "type": "float"
        }
       ],
       "ref": "9506cb40-4e69-44f2-834b-47fd32b783fe",
       "rows": [
        [
         "95",
         "haircare",
         "SKU95",
         "77.90392721944775",
         "65",
         "672",
         "7386.363944048664",
         "Unknown",
         "15",
         "14",
         "26",
         "9",
         "Carrier B",
         "8.630338869602754",
         "Supplier 4",
         "Mumbai",
         "18",
         "450",
         "26",
         "58.89068576858998",
         "Pending",
         "1.2108821295850665",
         "Air",
         "Route A",
         "778.8642413766479"
        ],
        [
         "96",
         "cosmetics",
         "SKU96",
         "24.42313142037338",
         "29",
         "324",
         "7698.424765632117",
         "Non-binary",
         "67",
         "2",
         "32",
         "3",
         "Carrier C",
         "5.352878043996809",
         "Supplier 3",
         "Mumbai",
         "28",
         "648",
         "28",
         "17.80375633139127",
         "Pending",
         "3.872047681482133",
         "Road",
         "Route A",
         "188.74214114905695"
        ],
        [
         "97",
         "haircare",
         "SKU97",
         "3.526111259143416",
         "56",
         "62",
         "4370.916579984536",
         "Male",
         "46",
         "19",
         "4",
         "9",
         "Carrier A",
         "7.904845611209675",
         "Supplier 4",
         "Mumbai",
         "10",
         "535",
         "13",
         "65.76515592636746",
         "Fail",
         "3.376237834717981",
         "Road",
         "Route A",
         "540.1324228679678"
        ],
        [
         "98",
         "skincare",
         "SKU98",
         "19.7546048668786",
         "43",
         "913",
         "8525.952559683526",
         "Female",
         "53",
         "1",
         "27",
         "7",
         "Carrier B",
         "1.409801095138073",
         "Supplier 5",
         "Chennai",
         "28",
         "581",
         "9",
         "5.604690864371781",
         "Pending",
         "2.908122169351261",
         "Rail",
         "Route A",
         "882.1988635470415"
        ],
        [
         "99",
         "haircare",
         "SKU99",
         "68.51783269927664",
         "17",
         "627",
         "9185.185829181704",
         "Unknown",
         "55",
         "8",
         "59",
         "6",
         "Carrier B",
         "1.3110237561206226",
         "Supplier 2",
         "Chennai",
         "29",
         "921",
         "2",
         "38.07289852062604",
         "Fail",
         "0.3460272907055034",
         "Rail",
         "Route B",
         "210.74300896424612"
        ]
       ],
       "shape": {
        "columns": 24,
        "rows": 5
       }
      },
      "text/html": [
       "<div>\n",
       "<style scoped>\n",
       "    .dataframe tbody tr th:only-of-type {\n",
       "        vertical-align: middle;\n",
       "    }\n",
       "\n",
       "    .dataframe tbody tr th {\n",
       "        vertical-align: top;\n",
       "    }\n",
       "\n",
       "    .dataframe thead th {\n",
       "        text-align: right;\n",
       "    }\n",
       "</style>\n",
       "<table border=\"1\" class=\"dataframe\">\n",
       "  <thead>\n",
       "    <tr style=\"text-align: right;\">\n",
       "      <th></th>\n",
       "      <th>Product type</th>\n",
       "      <th>SKU</th>\n",
       "      <th>Price</th>\n",
       "      <th>Availability</th>\n",
       "      <th>Number of products sold</th>\n",
       "      <th>Revenue generated</th>\n",
       "      <th>Customer demographics</th>\n",
       "      <th>Stock levels</th>\n",
       "      <th>Lead times</th>\n",
       "      <th>Order quantities</th>\n",
       "      <th>...</th>\n",
       "      <th>Location</th>\n",
       "      <th>Lead time</th>\n",
       "      <th>Production volumes</th>\n",
       "      <th>Manufacturing lead time</th>\n",
       "      <th>Manufacturing costs</th>\n",
       "      <th>Inspection results</th>\n",
       "      <th>Defect rates</th>\n",
       "      <th>Transportation modes</th>\n",
       "      <th>Routes</th>\n",
       "      <th>Costs</th>\n",
       "    </tr>\n",
       "  </thead>\n",
       "  <tbody>\n",
       "    <tr>\n",
       "      <th>95</th>\n",
       "      <td>haircare</td>\n",
       "      <td>SKU95</td>\n",
       "      <td>77.903927</td>\n",
       "      <td>65</td>\n",
       "      <td>672</td>\n",
       "      <td>7386.363944</td>\n",
       "      <td>Unknown</td>\n",
       "      <td>15</td>\n",
       "      <td>14</td>\n",
       "      <td>26</td>\n",
       "      <td>...</td>\n",
       "      <td>Mumbai</td>\n",
       "      <td>18</td>\n",
       "      <td>450</td>\n",
       "      <td>26</td>\n",
       "      <td>58.890686</td>\n",
       "      <td>Pending</td>\n",
       "      <td>1.210882</td>\n",
       "      <td>Air</td>\n",
       "      <td>Route A</td>\n",
       "      <td>778.864241</td>\n",
       "    </tr>\n",
       "    <tr>\n",
       "      <th>96</th>\n",
       "      <td>cosmetics</td>\n",
       "      <td>SKU96</td>\n",
       "      <td>24.423131</td>\n",
       "      <td>29</td>\n",
       "      <td>324</td>\n",
       "      <td>7698.424766</td>\n",
       "      <td>Non-binary</td>\n",
       "      <td>67</td>\n",
       "      <td>2</td>\n",
       "      <td>32</td>\n",
       "      <td>...</td>\n",
       "      <td>Mumbai</td>\n",
       "      <td>28</td>\n",
       "      <td>648</td>\n",
       "      <td>28</td>\n",
       "      <td>17.803756</td>\n",
       "      <td>Pending</td>\n",
       "      <td>3.872048</td>\n",
       "      <td>Road</td>\n",
       "      <td>Route A</td>\n",
       "      <td>188.742141</td>\n",
       "    </tr>\n",
       "    <tr>\n",
       "      <th>97</th>\n",
       "      <td>haircare</td>\n",
       "      <td>SKU97</td>\n",
       "      <td>3.526111</td>\n",
       "      <td>56</td>\n",
       "      <td>62</td>\n",
       "      <td>4370.916580</td>\n",
       "      <td>Male</td>\n",
       "      <td>46</td>\n",
       "      <td>19</td>\n",
       "      <td>4</td>\n",
       "      <td>...</td>\n",
       "      <td>Mumbai</td>\n",
       "      <td>10</td>\n",
       "      <td>535</td>\n",
       "      <td>13</td>\n",
       "      <td>65.765156</td>\n",
       "      <td>Fail</td>\n",
       "      <td>3.376238</td>\n",
       "      <td>Road</td>\n",
       "      <td>Route A</td>\n",
       "      <td>540.132423</td>\n",
       "    </tr>\n",
       "    <tr>\n",
       "      <th>98</th>\n",
       "      <td>skincare</td>\n",
       "      <td>SKU98</td>\n",
       "      <td>19.754605</td>\n",
       "      <td>43</td>\n",
       "      <td>913</td>\n",
       "      <td>8525.952560</td>\n",
       "      <td>Female</td>\n",
       "      <td>53</td>\n",
       "      <td>1</td>\n",
       "      <td>27</td>\n",
       "      <td>...</td>\n",
       "      <td>Chennai</td>\n",
       "      <td>28</td>\n",
       "      <td>581</td>\n",
       "      <td>9</td>\n",
       "      <td>5.604691</td>\n",
       "      <td>Pending</td>\n",
       "      <td>2.908122</td>\n",
       "      <td>Rail</td>\n",
       "      <td>Route A</td>\n",
       "      <td>882.198864</td>\n",
       "    </tr>\n",
       "    <tr>\n",
       "      <th>99</th>\n",
       "      <td>haircare</td>\n",
       "      <td>SKU99</td>\n",
       "      <td>68.517833</td>\n",
       "      <td>17</td>\n",
       "      <td>627</td>\n",
       "      <td>9185.185829</td>\n",
       "      <td>Unknown</td>\n",
       "      <td>55</td>\n",
       "      <td>8</td>\n",
       "      <td>59</td>\n",
       "      <td>...</td>\n",
       "      <td>Chennai</td>\n",
       "      <td>29</td>\n",
       "      <td>921</td>\n",
       "      <td>2</td>\n",
       "      <td>38.072899</td>\n",
       "      <td>Fail</td>\n",
       "      <td>0.346027</td>\n",
       "      <td>Rail</td>\n",
       "      <td>Route B</td>\n",
       "      <td>210.743009</td>\n",
       "    </tr>\n",
       "  </tbody>\n",
       "</table>\n",
       "<p>5 rows × 24 columns</p>\n",
       "</div>"
      ],
      "text/plain": [
       "   Product type    SKU      Price  Availability  Number of products sold  \\\n",
       "95     haircare  SKU95  77.903927            65                      672   \n",
       "96    cosmetics  SKU96  24.423131            29                      324   \n",
       "97     haircare  SKU97   3.526111            56                       62   \n",
       "98     skincare  SKU98  19.754605            43                      913   \n",
       "99     haircare  SKU99  68.517833            17                      627   \n",
       "\n",
       "    Revenue generated Customer demographics  Stock levels  Lead times  \\\n",
       "95        7386.363944               Unknown            15          14   \n",
       "96        7698.424766            Non-binary            67           2   \n",
       "97        4370.916580                  Male            46          19   \n",
       "98        8525.952560                Female            53           1   \n",
       "99        9185.185829               Unknown            55           8   \n",
       "\n",
       "    Order quantities  ...  Location Lead time  Production volumes  \\\n",
       "95                26  ...    Mumbai        18                 450   \n",
       "96                32  ...    Mumbai        28                 648   \n",
       "97                 4  ...    Mumbai        10                 535   \n",
       "98                27  ...   Chennai        28                 581   \n",
       "99                59  ...   Chennai        29                 921   \n",
       "\n",
       "   Manufacturing lead time Manufacturing costs  Inspection results  \\\n",
       "95                      26           58.890686             Pending   \n",
       "96                      28           17.803756             Pending   \n",
       "97                      13           65.765156                Fail   \n",
       "98                       9            5.604691             Pending   \n",
       "99                       2           38.072899                Fail   \n",
       "\n",
       "    Defect rates  Transportation modes   Routes       Costs  \n",
       "95      1.210882                   Air  Route A  778.864241  \n",
       "96      3.872048                  Road  Route A  188.742141  \n",
       "97      3.376238                  Road  Route A  540.132423  \n",
       "98      2.908122                  Rail  Route A  882.198864  \n",
       "99      0.346027                  Rail  Route B  210.743009  \n",
       "\n",
       "[5 rows x 24 columns]"
      ]
     },
     "execution_count": 4,
     "metadata": {},
     "output_type": "execute_result"
    }
   ],
   "source": [
    "# display the last 5 rows to verify\n",
    "df.tail()"
   ]
  },
  {
   "cell_type": "code",
   "execution_count": 5,
   "id": "667fa067",
   "metadata": {},
   "outputs": [
    {
     "data": {
      "text/plain": [
       "(100, 24)"
      ]
     },
     "execution_count": 5,
     "metadata": {},
     "output_type": "execute_result"
    }
   ],
   "source": [
    "# Dimensions of dataset\n",
    "df.shape\n",
    "     "
   ]
  },
  {
   "cell_type": "code",
   "execution_count": 6,
   "id": "9b2df020",
   "metadata": {},
   "outputs": [
    {
     "data": {
      "text/plain": [
       "Index(['Product type', 'SKU', 'Price', 'Availability',\n",
       "       'Number of products sold', 'Revenue generated', 'Customer demographics',\n",
       "       'Stock levels', 'Lead times', 'Order quantities', 'Shipping times',\n",
       "       'Shipping carriers', 'Shipping costs', 'Supplier name', 'Location',\n",
       "       'Lead time', 'Production volumes', 'Manufacturing lead time',\n",
       "       'Manufacturing costs', 'Inspection results', 'Defect rates',\n",
       "       'Transportation modes', 'Routes', 'Costs'],\n",
       "      dtype='object')"
      ]
     },
     "execution_count": 6,
     "metadata": {},
     "output_type": "execute_result"
    }
   ],
   "source": [
    "# Column names\n",
    "df.columns"
   ]
  },
  {
   "cell_type": "code",
   "execution_count": 7,
   "id": "b30dd0e4",
   "metadata": {},
   "outputs": [
    {
     "name": "stdout",
     "output_type": "stream",
     "text": [
      "<class 'pandas.core.frame.DataFrame'>\n",
      "RangeIndex: 100 entries, 0 to 99\n",
      "Data columns (total 24 columns):\n",
      " #   Column                   Non-Null Count  Dtype  \n",
      "---  ------                   --------------  -----  \n",
      " 0   Product type             100 non-null    object \n",
      " 1   SKU                      100 non-null    object \n",
      " 2   Price                    100 non-null    float64\n",
      " 3   Availability             100 non-null    int64  \n",
      " 4   Number of products sold  100 non-null    int64  \n",
      " 5   Revenue generated        100 non-null    float64\n",
      " 6   Customer demographics    100 non-null    object \n",
      " 7   Stock levels             100 non-null    int64  \n",
      " 8   Lead times               100 non-null    int64  \n",
      " 9   Order quantities         100 non-null    int64  \n",
      " 10  Shipping times           100 non-null    int64  \n",
      " 11  Shipping carriers        100 non-null    object \n",
      " 12  Shipping costs           100 non-null    float64\n",
      " 13  Supplier name            100 non-null    object \n",
      " 14  Location                 100 non-null    object \n",
      " 15  Lead time                100 non-null    int64  \n",
      " 16  Production volumes       100 non-null    int64  \n",
      " 17  Manufacturing lead time  100 non-null    int64  \n",
      " 18  Manufacturing costs      100 non-null    float64\n",
      " 19  Inspection results       100 non-null    object \n",
      " 20  Defect rates             100 non-null    float64\n",
      " 21  Transportation modes     100 non-null    object \n",
      " 22  Routes                   100 non-null    object \n",
      " 23  Costs                    100 non-null    float64\n",
      "dtypes: float64(6), int64(9), object(9)\n",
      "memory usage: 18.9+ KB\n"
     ]
    }
   ],
   "source": [
    "# Dataset summary information\n",
    "df.info()"
   ]
  },
  {
   "cell_type": "markdown",
   "id": "66fc9e79",
   "metadata": {},
   "source": [
    "The dataset has only Nine(9) categorical features and the remaining are Numerical."
   ]
  },
  {
   "cell_type": "markdown",
   "id": "7b42a1cd",
   "metadata": {},
   "source": [
    "**Step 2: Data Cleaning and Preprocessing**\n",
    "Things to do:\n",
    "\n",
    ">Check for missing values, duplicates, and incorrect data types.\n",
    "\n",
    ">Convert numerical columns that are stored as objects/strings into a float or integer format.\n",
    "\n",
    ">Standardize text data in categorical columns.\n",
    "Handle any inconsistencies.\n"
   ]
  },
  {
   "cell_type": "code",
   "execution_count": 8,
   "id": "28a5d84c",
   "metadata": {},
   "outputs": [
    {
     "name": "stdout",
     "output_type": "stream",
     "text": [
      "Missing Values:\n",
      " Product type               0\n",
      "SKU                        0\n",
      "Price                      0\n",
      "Availability               0\n",
      "Number of products sold    0\n",
      "Revenue generated          0\n",
      "Customer demographics      0\n",
      "Stock levels               0\n",
      "Lead times                 0\n",
      "Order quantities           0\n",
      "Shipping times             0\n",
      "Shipping carriers          0\n",
      "Shipping costs             0\n",
      "Supplier name              0\n",
      "Location                   0\n",
      "Lead time                  0\n",
      "Production volumes         0\n",
      "Manufacturing lead time    0\n",
      "Manufacturing costs        0\n",
      "Inspection results         0\n",
      "Defect rates               0\n",
      "Transportation modes       0\n",
      "Routes                     0\n",
      "Costs                      0\n",
      "dtype: int64\n"
     ]
    }
   ],
   "source": [
    "# Check for missing values and data types\n",
    "missing_values = df.isnull().sum()\n",
    "print(\"Missing Values:\\n\", missing_values)"
   ]
  },
  {
   "cell_type": "markdown",
   "id": "7d7107f8",
   "metadata": {},
   "source": [
    "There are no Missing Values"
   ]
  },
  {
   "cell_type": "code",
   "execution_count": 9,
   "id": "0f36a354",
   "metadata": {},
   "outputs": [],
   "source": [
    "# Convert relevant columns to numeric type\n",
    "cols_to_convert = ['Price', 'Revenue generated', 'Shipping costs', 'Manufacturing costs', 'Defect rates', 'Costs']\n",
    "for col in cols_to_convert:\n",
    "    # Use to_numeric with errors='coerce' to turn non-convertible values into NaN\n",
    "    df[col] = pd.to_numeric(df[col], errors='coerce')\n",
    "\n",
    "# Drop any rows that couldn't be converted (if any)\n",
    "df.dropna(subset=cols_to_convert, inplace=True)\n"
   ]
  },
  {
   "cell_type": "code",
   "execution_count": 10,
   "id": "4d056a6c",
   "metadata": {},
   "outputs": [],
   "source": [
    "\n",
    "# Standardize categorical data (e.g., 'haircare ' -> 'haircare')\n",
    "df['Product type'] = df['Product type'].str.strip()\n",
    "df['Shipping carriers'] = df['Shipping carriers'].str.strip()\n"
   ]
  },
  {
   "cell_type": "code",
   "execution_count": 11,
   "id": "2724ee88",
   "metadata": {},
   "outputs": [
    {
     "name": "stdout",
     "output_type": "stream",
     "text": [
      "Number of duplicate rows: 0\n"
     ]
    }
   ],
   "source": [
    "# check for duplicates\n",
    "duplicates = df.duplicated().sum()\n",
    "print(f\"Number of duplicate rows: {duplicates}\")"
   ]
  },
  {
   "cell_type": "markdown",
   "id": "c9f0ed42",
   "metadata": {},
   "source": [
    "We have no Duplicates in the data"
   ]
  },
  {
   "cell_type": "code",
   "execution_count": 12,
   "id": "b6c53f67",
   "metadata": {},
   "outputs": [
    {
     "name": "stdout",
     "output_type": "stream",
     "text": [
      "            Price  Availability  Number of products sold  Revenue generated  \\\n",
      "count  100.000000    100.000000               100.000000         100.000000   \n",
      "mean    49.462461     48.400000               460.990000        5776.048187   \n",
      "std     31.168193     30.743317               303.780074        2732.841744   \n",
      "min      1.699976      1.000000                 8.000000        1061.618523   \n",
      "25%     19.597823     22.750000               184.250000        2812.847151   \n",
      "50%     51.239831     43.500000               392.500000        6006.352023   \n",
      "75%     77.198228     75.000000               704.250000        8253.976921   \n",
      "max     99.171329    100.000000               996.000000        9866.465458   \n",
      "\n",
      "       Stock levels  Lead times  Order quantities  Shipping times  \\\n",
      "count    100.000000  100.000000        100.000000      100.000000   \n",
      "mean      47.770000   15.960000         49.220000        5.750000   \n",
      "std       31.369372    8.785801         26.784429        2.724283   \n",
      "min        0.000000    1.000000          1.000000        1.000000   \n",
      "25%       16.750000    8.000000         26.000000        3.750000   \n",
      "50%       47.500000   17.000000         52.000000        6.000000   \n",
      "75%       73.000000   24.000000         71.250000        8.000000   \n",
      "max      100.000000   30.000000         96.000000       10.000000   \n",
      "\n",
      "       Shipping costs   Lead time  Production volumes  \\\n",
      "count      100.000000  100.000000          100.000000   \n",
      "mean         5.548149   17.080000          567.840000   \n",
      "std          2.651376    8.846251          263.046861   \n",
      "min          1.013487    1.000000          104.000000   \n",
      "25%          3.540248   10.000000          352.000000   \n",
      "50%          5.320534   18.000000          568.500000   \n",
      "75%          7.601695   25.000000          797.000000   \n",
      "max          9.929816   30.000000          985.000000   \n",
      "\n",
      "       Manufacturing lead time  Manufacturing costs  Defect rates       Costs  \n",
      "count                100.00000           100.000000    100.000000  100.000000  \n",
      "mean                  14.77000            47.266693      2.277158  529.245782  \n",
      "std                    8.91243            28.982841      1.461366  258.301696  \n",
      "min                    1.00000             1.085069      0.018608  103.916248  \n",
      "25%                    7.00000            22.983299      1.009650  318.778455  \n",
      "50%                   14.00000            45.905622      2.141863  520.430444  \n",
      "75%                   23.00000            68.621026      3.563995  763.078231  \n",
      "max                   30.00000            99.466109      4.939255  997.413450  \n"
     ]
    }
   ],
   "source": [
    "# Verify the changes\n",
    "print(df.describe())"
   ]
  },
  {
   "cell_type": "code",
   "execution_count": 31,
   "id": "05a795ce",
   "metadata": {},
   "outputs": [
    {
     "name": "stdout",
     "output_type": "stream",
     "text": [
      "<class 'pandas.core.frame.DataFrame'>\n",
      "RangeIndex: 100 entries, 0 to 99\n",
      "Data columns (total 28 columns):\n",
      " #   Column                   Non-Null Count  Dtype   \n",
      "---  ------                   --------------  -----   \n",
      " 0   Product type             100 non-null    object  \n",
      " 1   SKU                      100 non-null    object  \n",
      " 2   Price                    100 non-null    float64 \n",
      " 3   Availability             100 non-null    int64   \n",
      " 4   Number of products sold  100 non-null    int64   \n",
      " 5   Revenue generated        100 non-null    float64 \n",
      " 6   Customer demographics    100 non-null    object  \n",
      " 7   Stock levels             100 non-null    int64   \n",
      " 8   Lead times               100 non-null    int64   \n",
      " 9   Order quantities         100 non-null    int64   \n",
      " 10  Shipping times           100 non-null    int64   \n",
      " 11  Shipping carriers        100 non-null    object  \n",
      " 12  Shipping costs           100 non-null    float64 \n",
      " 13  Supplier name            100 non-null    object  \n",
      " 14  Location                 100 non-null    object  \n",
      " 15  Lead time                100 non-null    int64   \n",
      " 16  Production volumes       100 non-null    int64   \n",
      " 17  Manufacturing lead time  100 non-null    int64   \n",
      " 18  Manufacturing costs      100 non-null    float64 \n",
      " 19  Inspection results       100 non-null    object  \n",
      " 20  Defect rates             100 non-null    float64 \n",
      " 21  Transportation modes     100 non-null    object  \n",
      " 22  Routes                   100 non-null    object  \n",
      " 23  Costs                    100 non-null    float64 \n",
      " 24  Profit                   100 non-null    float64 \n",
      " 25  Profit Margin (%)        100 non-null    float64 \n",
      " 26  Lead time category       100 non-null    category\n",
      " 27  Shipping time category   100 non-null    category\n",
      "dtypes: category(2), float64(8), int64(9), object(9)\n",
      "memory usage: 20.9+ KB\n"
     ]
    }
   ],
   "source": [
    "df.info()"
   ]
  },
  {
   "cell_type": "code",
   "execution_count": 35,
   "id": "6c0ab186",
   "metadata": {},
   "outputs": [
    {
     "name": "stdout",
     "output_type": "stream",
     "text": [
      "No outliers found in 'Price'.\n",
      "--------------------------------------------------\n",
      "No outliers found in 'Availability'.\n",
      "--------------------------------------------------\n",
      "No outliers found in 'Shipping costs'.\n",
      "--------------------------------------------------\n",
      "No outliers found in 'Shipping times'.\n",
      "--------------------------------------------------\n",
      "No outliers found in 'Number of products sold'.\n",
      "--------------------------------------------------\n",
      "No outliers found in 'Revenue generated'.\n",
      "--------------------------------------------------\n",
      "No outliers found in 'Stock levels'.\n",
      "--------------------------------------------------\n",
      "No outliers found in 'Manufacturing costs'.\n",
      "--------------------------------------------------\n",
      "No outliers found in 'Costs'.\n",
      "--------------------------------------------------\n",
      "No outliers found in 'Profit'.\n",
      "--------------------------------------------------\n",
      "Outliers found in 'Profit Margin (%)':\n",
      "\n",
      "   Product type    SKU      Price  Availability  Number of products sold  \\\n",
      "4      skincare   SKU4   4.805496            26                      871   \n",
      "10     skincare  SKU10  15.707796            11                      996   \n",
      "39     skincare  SKU39  19.127477            26                      176   \n",
      "42     skincare  SKU42  46.529168            98                      155   \n",
      "75     skincare  SKU75  92.996884            29                      106   \n",
      "77     haircare  SKU77  57.449743            14                      359   \n",
      "91    cosmetics  SKU91  62.111965            90                      916   \n",
      "\n",
      "    Revenue generated Customer demographics  Stock levels  Lead times  \\\n",
      "4         2686.505152            Non-binary             5           3   \n",
      "10        2330.965802            Non-binary            51          13   \n",
      "39        1912.465663                Female            78          29   \n",
      "42        1839.609426                Female            22          27   \n",
      "75        1889.073590            Non-binary            16          20   \n",
      "77        2483.760178               Unknown            96          28   \n",
      "91        1935.206794                  Male            98          22   \n",
      "\n",
      "    Order quantities  ...  Manufacturing costs Inspection results  \\\n",
      "4                 56  ...            92.065161               Fail   \n",
      "10                80  ...            96.527353               Pass   \n",
      "39                34  ...             9.005807               Fail   \n",
      "42                57  ...            96.422821               Fail   \n",
      "75                56  ...            48.064783               Pass   \n",
      "77                57  ...            42.952445               Pass   \n",
      "91                85  ...            39.772883            Pending   \n",
      "\n",
      "    Defect rates Transportation modes   Routes       Costs       Profit  \\\n",
      "4       3.145580                  Air  Route A  923.440632  1763.064520   \n",
      "10      1.727314                 Road  Route B  806.103178  1524.862624   \n",
      "39      1.451972                  Air  Route B  653.672995  1258.792669   \n",
      "42      4.939255                 Road  Route A  635.657121  1203.952305   \n",
      "75      2.030069                  Air  Route C  873.129648  1015.943942   \n",
      "77      3.055142                 Road  Route B  852.568099  1631.192079   \n",
      "91      0.626002                 Rail  Route B  996.778315   938.428479   \n",
      "\n",
      "    Profit Margin (%)   Lead time category Shipping time category  \n",
      "4           65.626694     Fast (0-10 days)       Slow (8-10 days)  \n",
      "10          65.417632  Medium (11-20 days)        Fast (0-3 days)  \n",
      "39          65.820406    Slow (21-30 days)        Fast (0-3 days)  \n",
      "42          65.446083    Slow (21-30 days)      Medium (4-7 days)  \n",
      "75          53.780009  Medium (11-20 days)       Slow (8-10 days)  \n",
      "77          65.674299    Slow (21-30 days)      Medium (4-7 days)  \n",
      "91          48.492413    Slow (21-30 days)      Medium (4-7 days)  \n",
      "\n",
      "[7 rows x 28 columns]\n",
      "--------------------------------------------------\n",
      "No outliers found in 'Defect rates'.\n",
      "--------------------------------------------------\n",
      "No outliers found in 'Lead time'.\n",
      "--------------------------------------------------\n",
      "No outliers found in 'Production volumes'.\n",
      "--------------------------------------------------\n",
      "No outliers found in 'Manufacturing lead time'.\n",
      "--------------------------------------------------\n"
     ]
    }
   ],
   "source": [
    "#CHECK AND HANDLE OUTLIERS\n",
    "\n",
    "# List of columns to check for outliers\n",
    "columns_to_check = [\n",
    "    'Price',\n",
    "    'Availability',\n",
    "    'Shipping costs',\n",
    "    'Shipping times',\n",
    "    'Number of products sold', \n",
    "    'Revenue generated', \n",
    "    'Stock levels', \n",
    "    'Manufacturing costs', \n",
    "    'Costs', \n",
    "    'Profit', \n",
    "    'Profit Margin (%)',\n",
    "    'Defect rates',\n",
    "    'Lead time',\n",
    "    'Production volumes',\n",
    "    'Manufacturing lead time',\n",
    "]\n",
    "\n",
    "# Dictionary to store outliers for each column\n",
    "outliers_data = {}\n",
    "\n",
    "for column in columns_to_check:\n",
    "    # Check if the column exists in the DataFrame\n",
    "    if column in df.columns:\n",
    "        # Calculate Q1 (25th percentile) and Q3 (75th percentile)\n",
    "        Q1 = df[column].quantile(0.25)\n",
    "        Q3 = df[column].quantile(0.75)\n",
    "        IQR = Q3 - Q1\n",
    "        \n",
    "        # Define the outlier boundaries\n",
    "        lower_bound = Q1 - 1.5 * IQR\n",
    "        upper_bound = Q3 + 1.5 * IQR\n",
    "        \n",
    "        # Find the outliers\n",
    "        outliers = df[(df[column] < lower_bound) | (df[column] > upper_bound)]\n",
    "        \n",
    "        # Store the outliers in the dictionary\n",
    "        if not outliers.empty:\n",
    "            outliers_data[column] = outliers\n",
    "            print(f\"Outliers found in '{column}':\\n\")\n",
    "            print(outliers)\n",
    "            print(\"-\" * 50)\n",
    "        else:\n",
    "            print(f\"No outliers found in '{column}'.\")\n",
    "            print(\"-\" * 50)\n",
    "    else:\n",
    "        print(f\"Column '{column}' not found in the DataFrame.\")\n",
    "        print(\"-\" * 50)"
   ]
  },
  {
   "cell_type": "markdown",
   "id": "845260bb",
   "metadata": {},
   "source": [
    "We found Some Outliers in Profit Margin Column and We have to investigate it."
   ]
  },
  {
   "cell_type": "code",
   "execution_count": 36,
   "id": "0f479425",
   "metadata": {},
   "outputs": [
    {
     "data": {
      "image/png": "[encoded data removed]",
      "text/plain": [
       "<Figure size 1000x600 with 1 Axes>"
      ]
     },
     "metadata": {},
     "output_type": "display_data"
    }
   ],
   "source": [
    "# Visualize the distribution of 'Profit Margin (%)'\n",
    "outliers = df[(df['Profit Margin (%)'] < 0) | (df['Profit Margin (%)'] > 100)]\n",
    "plt.figure(figsize=(10, 6))\n",
    "sns.boxplot(x=df['Profit Margin (%)'])\n",
    "plt.title('Box Plot of Profit Margin (%)')\n",
    "plt.xlabel('Profit Margin (%)')\n",
    "plt.show()"
   ]
  },
  {
   "cell_type": "markdown",
   "id": "da1268eb",
   "metadata": {},
   "source": [
    "\n",
    "This box plot shows the distribution of profit margins across the company's product lines. The key insights are:\n",
    "\n",
    "**Profit Margin Range:** The profit margins range from around 50% to 100%, indicating a wide spread in profitability.\n",
    "\n",
    "**Median Profit Margin:** The median profit margin appears to be around 90%, suggesting many product lines have very high margins.\n",
    "\n",
    "**Variability:** The box plot shows a relatively small interquartile range, indicating the middle 50% of margins are clustered around the median. However, the whiskers suggest there are some lower-margin outliers.\n",
    "\n",
    "**Skewness:** The box plot is slightly skewed left, meaning most margins are concentrated on the higher end, with fewer lower-margin products.\n",
    "\n",
    "The wide margin range suggests further analysis is needed to identify drivers of high and low profitability, and develop strategies to enhance overall performance."
   ]
  },
  {
   "cell_type": "markdown",
   "id": "9d735765",
   "metadata": {},
   "source": [
    "**Step 3: Feature Engineering**\n",
    "\n",
    "**Action**:\n",
    "> 1. Calculate Profit for each product.\n",
    "\n",
    "> 2. Calculate Profit Margin to understand profitability as a percentage.\n",
    "\n",
    "> 3. Categorize Lead times and Shipping times into bins (e.g., 'Fast', 'Medium', 'Slow') to simplify analysis.\n"
   ]
  },
  {
   "cell_type": "code",
   "execution_count": 14,
   "id": "6bf7808a",
   "metadata": {},
   "outputs": [],
   "source": [
    "# Calculate Profit and Profit Margin\n",
    "# The 'Costs' column seems to be the total costs, including manufacturing and shipping.\n",
    "df['Profit'] = df['Revenue generated'] - df['Costs']\n",
    "df['Profit Margin (%)'] = (df['Profit'] / df['Revenue generated']) * 100\n",
    "\n"
   ]
  },
  {
   "cell_type": "code",
   "execution_count": 15,
   "id": "f54cf1d6",
   "metadata": {},
   "outputs": [
    {
     "name": "stdout",
     "output_type": "stream",
     "text": [
      "   Revenue generated       Costs       Profit  Profit Margin (%)  \\\n",
      "0        8661.996792  187.752075  8474.244717          97.832462   \n",
      "1        7460.900065  503.065579  6957.834486          93.257307   \n",
      "2        9577.749626  141.920282  9435.829344          98.518229   \n",
      "3        7766.836426  254.776159  7512.060266          96.719692   \n",
      "4        2686.505152  923.440632  1763.064520          65.626694   \n",
      "\n",
      "    Lead time category Shipping time category  \n",
      "0     Fast (0-10 days)      Medium (4-7 days)  \n",
      "1    Slow (21-30 days)        Fast (0-3 days)  \n",
      "2     Fast (0-10 days)        Fast (0-3 days)  \n",
      "3  Medium (11-20 days)      Medium (4-7 days)  \n",
      "4     Fast (0-10 days)       Slow (8-10 days)  \n"
     ]
    }
   ],
   "source": [
    "# Create bins for lead and shipping times\n",
    "df['Lead time category'] = pd.cut(df['Lead times'], bins=[0, 10, 20, 30], labels=['Fast (0-10 days)', 'Medium (11-20 days)', 'Slow (21-30 days)'])\n",
    "df['Shipping time category'] = pd.cut(df['Shipping times'], bins=[0, 3, 7, 10], labels=['Fast (0-3 days)', 'Medium (4-7 days)', 'Slow (8-10 days)'])\n",
    "\n",
    "# Display the new features\n",
    "print(df[['Revenue generated', 'Costs', 'Profit', 'Profit Margin (%)', 'Lead time category', 'Shipping time category']].head())"
   ]
  },
  {
   "cell_type": "markdown",
   "id": "52617e69",
   "metadata": {},
   "source": [
    "\n",
    "**Step 4: Exploratory Data Analysis (EDA) with Python**\n",
    "\n",
    "**Action**:\n",
    "> **1. Financial Performance**:\n",
    "\n",
    ">>>Calculate total revenue and profit by product type.\n",
    "\n",
    ">>>Identify the top 5 most profitable products.\n",
    "\n",
    "> **2. Operational Efficiency**:\n",
    "\n",
    ">>>Compare average lead times and costs across different suppliers.\n",
    "\n",
    ">>>Analyze shipping performance by carrier.\n",
    "\n",
    ">>>Correlate stock levels with sales.\n",
    "\n",
    "> **3. Quality and Risk**:\n",
    "\n",
    ">>>Calculate defect rates by product type and supplier.\n",
    "\n",
    ">>>Analyze inspection results.\n"
   ]
  },
  {
   "cell_type": "code",
   "execution_count": 16,
   "id": "9d1b362b",
   "metadata": {},
   "outputs": [],
   "source": [
    "# Set a style for the plots\n",
    "sns.set_style(\"whitegrid\")"
   ]
  },
  {
   "cell_type": "code",
   "execution_count": 17,
   "id": "510ed4e4",
   "metadata": {},
   "outputs": [
    {
     "data": {
      "application/vnd.microsoft.datawrangler.viewer.v0+json": {
       "columns": [
        {
         "name": "index",
         "rawType": "object",
         "type": "string"
        },
        {
         "name": "count",
         "rawType": "float64",
         "type": "float"
        },
        {
         "name": "mean",
         "rawType": "float64",
         "type": "float"
        },
        {
         "name": "std",
         "rawType": "float64",
         "type": "float"
        },
        {
         "name": "min",
         "rawType": "float64",
         "type": "float"
        },
        {
         "name": "25%",
         "rawType": "float64",
         "type": "float"
        },
        {
         "name": "50%",
         "rawType": "float64",
         "type": "float"
        },
        {
         "name": "75%",
         "rawType": "float64",
         "type": "float"
        },
        {
         "name": "max",
         "rawType": "float64",
         "type": "float"
        }
       ],
       "ref": "4fde71d9-3e94-4b52-9cb6-7e78240d5cfc",
       "rows": [
        [
         "Price",
         "100.0",
         "49.462461344643685",
         "31.16819273658854",
         "1.6999760138659377",
         "19.597822966614764",
         "51.239830500537565",
         "77.19822761625734",
         "99.1713286386242"
        ],
        [
         "Availability",
         "100.0",
         "48.4",
         "30.7433165932291",
         "1.0",
         "22.75",
         "43.5",
         "75.0",
         "100.0"
        ],
        [
         "Number of products sold",
         "100.0",
         "460.99",
         "303.780073790766",
         "8.0",
         "184.25",
         "392.5",
         "704.25",
         "996.0"
        ],
        [
         "Revenue generated",
         "100.0",
         "5776.048187380086",
         "2732.841744313675",
         "1061.618523013288",
         "2812.8471511983416",
         "6006.352023397045",
         "8253.97692072366",
         "9866.465457979695"
        ],
        [
         "Stock levels",
         "100.0",
         "47.77",
         "31.36937160268714",
         "0.0",
         "16.75",
         "47.5",
         "73.0",
         "100.0"
        ],
        [
         "Lead times",
         "100.0",
         "15.96",
         "8.785801217322359",
         "1.0",
         "8.0",
         "17.0",
         "24.0",
         "30.0"
        ],
        [
         "Order quantities",
         "100.0",
         "49.22",
         "26.78442936793048",
         "1.0",
         "26.0",
         "52.0",
         "71.25",
         "96.0"
        ],
        [
         "Shipping times",
         "100.0",
         "5.75",
         "2.7242828729258592",
         "1.0",
         "3.75",
         "6.0",
         "8.0",
         "10.0"
        ],
        [
         "Shipping costs",
         "100.0",
         "5.548149072019588",
         "2.651375524281148",
         "1.0134865660958965",
         "3.5402476829450134",
         "5.320534017162109",
         "7.601694920060694",
         "9.92981624527726"
        ],
        [
         "Lead time",
         "100.0",
         "17.08",
         "8.846251274758233",
         "1.0",
         "10.0",
         "18.0",
         "25.0",
         "30.0"
        ],
        [
         "Production volumes",
         "100.0",
         "567.84",
         "263.0468606714228",
         "104.0",
         "352.0",
         "568.5",
         "797.0",
         "985.0"
        ],
        [
         "Manufacturing lead time",
         "100.0",
         "14.77",
         "8.912430316216458",
         "1.0",
         "7.0",
         "14.0",
         "23.0",
         "30.0"
        ],
        [
         "Manufacturing costs",
         "100.0",
         "47.26669324146992",
         "28.98284121760609",
         "1.0850685695870688",
         "22.983299342070517",
         "45.90562173883524",
         "68.62102567244895",
         "99.46610860359912"
        ],
        [
         "Defect rates",
         "100.0",
         "2.27715799273961",
         "1.46136554894314",
         "0.0186075676310149",
         "1.0096499717695706",
         "2.1418626833498684",
         "3.5639953317837256",
         "4.939255288620948"
        ],
        [
         "Costs",
         "100.0",
         "529.2457821581411",
         "258.301696207867",
         "103.91624796070496",
         "318.77845522185703",
         "520.4304443246092",
         "763.0782306019398",
         "997.4134501331946"
        ],
        [
         "Profit",
         "100.0",
         "5246.802405221945",
         "2738.0046058638577",
         "749.0442494031947",
         "2328.6542245926667",
         "5410.909666150565",
         "7670.418726920773",
         "9435.82934409721"
        ],
        [
         "Profit Margin (%)",
         "100.0",
         "87.44405786315495",
         "10.2713719875197",
         "48.492413405394046",
         "83.24908664965866",
         "90.8815585811948",
         "93.94745818149616",
         "98.89974498406701"
        ]
       ],
       "shape": {
        "columns": 8,
        "rows": 17
       }
      },
      "text/html": [
       "<div>\n",
       "<style scoped>\n",
       "    .dataframe tbody tr th:only-of-type {\n",
       "        vertical-align: middle;\n",
       "    }\n",
       "\n",
       "    .dataframe tbody tr th {\n",
       "        vertical-align: top;\n",
       "    }\n",
       "\n",
       "    .dataframe thead th {\n",
       "        text-align: right;\n",
       "    }\n",
       "</style>\n",
       "<table border=\"1\" class=\"dataframe\">\n",
       "  <thead>\n",
       "    <tr style=\"text-align: right;\">\n",
       "      <th></th>\n",
       "      <th>count</th>\n",
       "      <th>mean</th>\n",
       "      <th>std</th>\n",
       "      <th>min</th>\n",
       "      <th>25%</th>\n",
       "      <th>50%</th>\n",
       "      <th>75%</th>\n",
       "      <th>max</th>\n",
       "    </tr>\n",
       "  </thead>\n",
       "  <tbody>\n",
       "    <tr>\n",
       "      <th>Price</th>\n",
       "      <td>100.0</td>\n",
       "      <td>49.462461</td>\n",
       "      <td>31.168193</td>\n",
       "      <td>1.699976</td>\n",
       "      <td>19.597823</td>\n",
       "      <td>51.239831</td>\n",
       "      <td>77.198228</td>\n",
       "      <td>99.171329</td>\n",
       "    </tr>\n",
       "    <tr>\n",
       "      <th>Availability</th>\n",
       "      <td>100.0</td>\n",
       "      <td>48.400000</td>\n",
       "      <td>30.743317</td>\n",
       "      <td>1.000000</td>\n",
       "      <td>22.750000</td>\n",
       "      <td>43.500000</td>\n",
       "      <td>75.000000</td>\n",
       "      <td>100.000000</td>\n",
       "    </tr>\n",
       "    <tr>\n",
       "      <th>Number of products sold</th>\n",
       "      <td>100.0</td>\n",
       "      <td>460.990000</td>\n",
       "      <td>303.780074</td>\n",
       "      <td>8.000000</td>\n",
       "      <td>184.250000</td>\n",
       "      <td>392.500000</td>\n",
       "      <td>704.250000</td>\n",
       "      <td>996.000000</td>\n",
       "    </tr>\n",
       "    <tr>\n",
       "      <th>Revenue generated</th>\n",
       "      <td>100.0</td>\n",
       "      <td>5776.048187</td>\n",
       "      <td>2732.841744</td>\n",
       "      <td>1061.618523</td>\n",
       "      <td>2812.847151</td>\n",
       "      <td>6006.352023</td>\n",
       "      <td>8253.976921</td>\n",
       "      <td>9866.465458</td>\n",
       "    </tr>\n",
       "    <tr>\n",
       "      <th>Stock levels</th>\n",
       "      <td>100.0</td>\n",
       "      <td>47.770000</td>\n",
       "      <td>31.369372</td>\n",
       "      <td>0.000000</td>\n",
       "      <td>16.750000</td>\n",
       "      <td>47.500000</td>\n",
       "      <td>73.000000</td>\n",
       "      <td>100.000000</td>\n",
       "    </tr>\n",
       "    <tr>\n",
       "      <th>Lead times</th>\n",
       "      <td>100.0</td>\n",
       "      <td>15.960000</td>\n",
       "      <td>8.785801</td>\n",
       "      <td>1.000000</td>\n",
       "      <td>8.000000</td>\n",
       "      <td>17.000000</td>\n",
       "      <td>24.000000</td>\n",
       "      <td>30.000000</td>\n",
       "    </tr>\n",
       "    <tr>\n",
       "      <th>Order quantities</th>\n",
       "      <td>100.0</td>\n",
       "      <td>49.220000</td>\n",
       "      <td>26.784429</td>\n",
       "      <td>1.000000</td>\n",
       "      <td>26.000000</td>\n",
       "      <td>52.000000</td>\n",
       "      <td>71.250000</td>\n",
       "      <td>96.000000</td>\n",
       "    </tr>\n",
       "    <tr>\n",
       "      <th>Shipping times</th>\n",
       "      <td>100.0</td>\n",
       "      <td>5.750000</td>\n",
       "      <td>2.724283</td>\n",
       "      <td>1.000000</td>\n",
       "      <td>3.750000</td>\n",
       "      <td>6.000000</td>\n",
       "      <td>8.000000</td>\n",
       "      <td>10.000000</td>\n",
       "    </tr>\n",
       "    <tr>\n",
       "      <th>Shipping costs</th>\n",
       "      <td>100.0</td>\n",
       "      <td>5.548149</td>\n",
       "      <td>2.651376</td>\n",
       "      <td>1.013487</td>\n",
       "      <td>3.540248</td>\n",
       "      <td>5.320534</td>\n",
       "      <td>7.601695</td>\n",
       "      <td>9.929816</td>\n",
       "    </tr>\n",
       "    <tr>\n",
       "      <th>Lead time</th>\n",
       "      <td>100.0</td>\n",
       "      <td>17.080000</td>\n",
       "      <td>8.846251</td>\n",
       "      <td>1.000000</td>\n",
       "      <td>10.000000</td>\n",
       "      <td>18.000000</td>\n",
       "      <td>25.000000</td>\n",
       "      <td>30.000000</td>\n",
       "    </tr>\n",
       "    <tr>\n",
       "      <th>Production volumes</th>\n",
       "      <td>100.0</td>\n",
       "      <td>567.840000</td>\n",
       "      <td>263.046861</td>\n",
       "      <td>104.000000</td>\n",
       "      <td>352.000000</td>\n",
       "      <td>568.500000</td>\n",
       "      <td>797.000000</td>\n",
       "      <td>985.000000</td>\n",
       "    </tr>\n",
       "    <tr>\n",
       "      <th>Manufacturing lead time</th>\n",
       "      <td>100.0</td>\n",
       "      <td>14.770000</td>\n",
       "      <td>8.912430</td>\n",
       "      <td>1.000000</td>\n",
       "      <td>7.000000</td>\n",
       "      <td>14.000000</td>\n",
       "      <td>23.000000</td>\n",
       "      <td>30.000000</td>\n",
       "    </tr>\n",
       "    <tr>\n",
       "      <th>Manufacturing costs</th>\n",
       "      <td>100.0</td>\n",
       "      <td>47.266693</td>\n",
       "      <td>28.982841</td>\n",
       "      <td>1.085069</td>\n",
       "      <td>22.983299</td>\n",
       "      <td>45.905622</td>\n",
       "      <td>68.621026</td>\n",
       "      <td>99.466109</td>\n",
       "    </tr>\n",
       "    <tr>\n",
       "      <th>Defect rates</th>\n",
       "      <td>100.0</td>\n",
       "      <td>2.277158</td>\n",
       "      <td>1.461366</td>\n",
       "      <td>0.018608</td>\n",
       "      <td>1.009650</td>\n",
       "      <td>2.141863</td>\n",
       "      <td>3.563995</td>\n",
       "      <td>4.939255</td>\n",
       "    </tr>\n",
       "    <tr>\n",
       "      <th>Costs</th>\n",
       "      <td>100.0</td>\n",
       "      <td>529.245782</td>\n",
       "      <td>258.301696</td>\n",
       "      <td>103.916248</td>\n",
       "      <td>318.778455</td>\n",
       "      <td>520.430444</td>\n",
       "      <td>763.078231</td>\n",
       "      <td>997.413450</td>\n",
       "    </tr>\n",
       "    <tr>\n",
       "      <th>Profit</th>\n",
       "      <td>100.0</td>\n",
       "      <td>5246.802405</td>\n",
       "      <td>2738.004606</td>\n",
       "      <td>749.044249</td>\n",
       "      <td>2328.654225</td>\n",
       "      <td>5410.909666</td>\n",
       "      <td>7670.418727</td>\n",
       "      <td>9435.829344</td>\n",
       "    </tr>\n",
       "    <tr>\n",
       "      <th>Profit Margin (%)</th>\n",
       "      <td>100.0</td>\n",
       "      <td>87.444058</td>\n",
       "      <td>10.271372</td>\n",
       "      <td>48.492413</td>\n",
       "      <td>83.249087</td>\n",
       "      <td>90.881559</td>\n",
       "      <td>93.947458</td>\n",
       "      <td>98.899745</td>\n",
       "    </tr>\n",
       "  </tbody>\n",
       "</table>\n",
       "</div>"
      ],
      "text/plain": [
       "                         count         mean          std          min  \\\n",
       "Price                    100.0    49.462461    31.168193     1.699976   \n",
       "Availability             100.0    48.400000    30.743317     1.000000   \n",
       "Number of products sold  100.0   460.990000   303.780074     8.000000   \n",
       "Revenue generated        100.0  5776.048187  2732.841744  1061.618523   \n",
       "Stock levels             100.0    47.770000    31.369372     0.000000   \n",
       "Lead times               100.0    15.960000     8.785801     1.000000   \n",
       "Order quantities         100.0    49.220000    26.784429     1.000000   \n",
       "Shipping times           100.0     5.750000     2.724283     1.000000   \n",
       "Shipping costs           100.0     5.548149     2.651376     1.013487   \n",
       "Lead time                100.0    17.080000     8.846251     1.000000   \n",
       "Production volumes       100.0   567.840000   263.046861   104.000000   \n",
       "Manufacturing lead time  100.0    14.770000     8.912430     1.000000   \n",
       "Manufacturing costs      100.0    47.266693    28.982841     1.085069   \n",
       "Defect rates             100.0     2.277158     1.461366     0.018608   \n",
       "Costs                    100.0   529.245782   258.301696   103.916248   \n",
       "Profit                   100.0  5246.802405  2738.004606   749.044249   \n",
       "Profit Margin (%)        100.0    87.444058    10.271372    48.492413   \n",
       "\n",
       "                                 25%          50%          75%          max  \n",
       "Price                      19.597823    51.239831    77.198228    99.171329  \n",
       "Availability               22.750000    43.500000    75.000000   100.000000  \n",
       "Number of products sold   184.250000   392.500000   704.250000   996.000000  \n",
       "Revenue generated        2812.847151  6006.352023  8253.976921  9866.465458  \n",
       "Stock levels               16.750000    47.500000    73.000000   100.000000  \n",
       "Lead times                  8.000000    17.000000    24.000000    30.000000  \n",
       "Order quantities           26.000000    52.000000    71.250000    96.000000  \n",
       "Shipping times              3.750000     6.000000     8.000000    10.000000  \n",
       "Shipping costs              3.540248     5.320534     7.601695     9.929816  \n",
       "Lead time                  10.000000    18.000000    25.000000    30.000000  \n",
       "Production volumes        352.000000   568.500000   797.000000   985.000000  \n",
       "Manufacturing lead time     7.000000    14.000000    23.000000    30.000000  \n",
       "Manufacturing costs        22.983299    45.905622    68.621026    99.466109  \n",
       "Defect rates                1.009650     2.141863     3.563995     4.939255  \n",
       "Costs                     318.778455   520.430444   763.078231   997.413450  \n",
       "Profit                   2328.654225  5410.909666  7670.418727  9435.829344  \n",
       "Profit Margin (%)          83.249087    90.881559    93.947458    98.899745  "
      ]
     },
     "execution_count": 17,
     "metadata": {},
     "output_type": "execute_result"
    }
   ],
   "source": [
    "\n",
    "# Summary statistics\n",
    "df.describe().T"
   ]
  },
  {
   "cell_type": "code",
   "execution_count": 18,
   "id": "f48fd306",
   "metadata": {},
   "outputs": [
    {
     "name": "stdout",
     "output_type": "stream",
     "text": [
      "\n",
      "--- Financial Performance ---\n",
      "Total Revenue by Product Type:\n",
      " Product type\n",
      "skincare     241628.162133\n",
      "haircare     174455.390605\n",
      "cosmetics    161521.265999\n",
      "Name: Revenue generated, dtype: float64\n",
      "\n",
      "Total Profit by Product Type:\n",
      " Product type\n",
      "skincare     219398.844065\n",
      "haircare     157126.527741\n",
      "cosmetics    148154.868716\n",
      "Name: Profit, dtype: float64\n"
     ]
    }
   ],
   "source": [
    "# 1. Financial Performance\n",
    "print(\"\\n--- Financial Performance ---\")\n",
    "product_revenue = df.groupby('Product type')['Revenue generated'].sum().sort_values(ascending=False)\n",
    "product_profit = df.groupby('Product type')['Profit'].sum().sort_values(ascending=False)\n",
    "print(\"Total Revenue by Product Type:\\n\", product_revenue)\n",
    "print(\"\\nTotal Profit by Product Type:\\n\", product_profit)\n"
   ]
  },
  {
   "cell_type": "code",
   "execution_count": 19,
   "id": "2661571d",
   "metadata": {},
   "outputs": [
    {
     "name": "stderr",
     "output_type": "stream",
     "text": [
      "C:\\Users\\pio29\\AppData\\Local\\Temp\\ipykernel_37296\\1159412426.py:3: FutureWarning: \n",
      "\n",
      "Passing `palette` without assigning `hue` is deprecated and will be removed in v0.14.0. Assign the `x` variable to `hue` and set `legend=False` for the same effect.\n",
      "\n",
      "  sns.barplot(x=product_revenue.index, y=product_revenue.values, palette=\"viridis\")\n"
     ]
    },
    {
     "data": {
      "image/png": "[encoded data removed]",
      "text/plain": [
       "<Figure size 1000x600 with 1 Axes>"
      ]
     },
     "metadata": {},
     "output_type": "display_data"
    }
   ],
   "source": [
    "# Visualize revenue by product type\n",
    "plt.figure(figsize=(10, 6))\n",
    "sns.barplot(x=product_revenue.index, y=product_revenue.values, palette=\"viridis\")\n",
    "plt.title('Total Revenue by Product Type')\n",
    "plt.xlabel('Product Type')\n",
    "plt.ylabel('Total Revenue')\n",
    "plt.show()\n"
   ]
  },
  {
   "cell_type": "markdown",
   "id": "8642e779",
   "metadata": {},
   "source": [
    "**Skincare** is the clear leader in your product portfolio, generating the highest total revenue and profit. While haircare and cosmetics also perform well, they lag behind skincare in overall financial contribution.\n",
    "\n",
    "**Detailed Breakdown**\n",
    "\n",
    ">**Skincare is the Top Performer**:\n",
    "\n",
    ">>>It generated the most revenue, with a total of $241,628.16.\n",
    "\n",
    ">>>It also produced the highest profit, totaling $219,398.84.\n",
    "\n",
    ">>>This indicates a high demand and strong sales performance for skincare products.\n",
    "\n",
    ">**Haircare is a Strong Second**:\n",
    "\n",
    ">>>Haircare is your second most valuable product type, with $174,455.39 in revenue.\n",
    "\n",
    ">>>It generated a solid profit of $157,126.53, reinforcing its position as a significant contributor to the business.\n",
    "\n",
    ">**Cosmetics are a Key Contributor**:\n",
    "\n",
    ">>>Cosmetics generated $161,521.27 in revenue, placing it just behind haircare.\n",
    "\n",
    ">>>Its profit of $148,154.87 is also very strong.\n",
    "\n",
    ">>>Notably, cosmetics show a slightly higher profit margin on a percentage basis, suggesting they are a highly efficient product line.\n",
    "\n",
    "**Key Takeaway**\n",
    "The data shows a clear hierarchy of performance, with skincare at the top, followed by haircare and cosmetics. To maximize revenue and profit, the business should continue to focus its efforts on the skincare category, while also identifying opportunities to grow the haircare and cosmetics lines."
   ]
  },
  {
   "cell_type": "code",
   "execution_count": 20,
   "id": "5de4402c",
   "metadata": {},
   "outputs": [
    {
     "name": "stdout",
     "output_type": "stream",
     "text": [
      "\n",
      "--- Operational Efficiency ---\n",
      "Supplier Performance:\n",
      "                Avg_Lead_Time  Avg_Shipping_Cost   Total_Costs\n",
      "Supplier name                                                \n",
      "Supplier 3         14.333333           4.788771   7032.001523\n",
      "Supplier 5         14.722222           5.789832   9648.409132\n",
      "Supplier 2         16.227273           5.739178  11330.599298\n",
      "Supplier 1         16.777778           5.512302  15520.980745\n",
      "Supplier 4         17.000000           5.759573   9392.587517\n"
     ]
    }
   ],
   "source": [
    "# 2. Operational Efficiency\n",
    "print(\"\\n--- Operational Efficiency ---\")\n",
    "supplier_performance = df.groupby('Supplier name').agg(\n",
    "    Avg_Lead_Time=('Lead times', 'mean'),\n",
    "    Avg_Shipping_Cost=('Shipping costs', 'mean'),\n",
    "    Total_Costs=('Costs', 'sum')\n",
    ").sort_values(by='Avg_Lead_Time')\n",
    "print(\"Supplier Performance:\\n\", supplier_performance)\n"
   ]
  },
  {
   "cell_type": "code",
   "execution_count": 21,
   "id": "0b1e00ee",
   "metadata": {},
   "outputs": [
    {
     "name": "stderr",
     "output_type": "stream",
     "text": [
      "C:\\Users\\pio29\\AppData\\Local\\Temp\\ipykernel_37296\\2741138573.py:3: FutureWarning: \n",
      "\n",
      "Passing `palette` without assigning `hue` is deprecated and will be removed in v0.14.0. Assign the `x` variable to `hue` and set `legend=False` for the same effect.\n",
      "\n",
      "  sns.barplot(x=supplier_performance.index, y=supplier_performance['Avg_Lead_Time'], palette=\"mako\")\n"
     ]
    },
    {
     "data": {
      "image/png": "[encoded data removed]",
      "text/plain": [
       "<Figure size 1000x600 with 1 Axes>"
      ]
     },
     "metadata": {},
     "output_type": "display_data"
    }
   ],
   "source": [
    "# Visualize average lead time by supplier\n",
    "plt.figure(figsize=(10, 6))\n",
    "sns.barplot(x=supplier_performance.index, y=supplier_performance['Avg_Lead_Time'], palette=\"mako\")\n",
    "plt.title('Average Lead Time by Supplier')\n",
    "plt.xlabel('Supplier Name')\n",
    "plt.ylabel('Average Lead Time (days)')\n",
    "plt.show()\n"
   ]
  },
  {
   "cell_type": "markdown",
   "id": "2a7c12a2",
   "metadata": {},
   "source": [
    "Supplier 3 is your most efficient and cost-effective supplier, with the fastest average lead times and the lowest average shipping costs. In contrast, Supplier 4 has the longest lead times, while Supplier 1 has the highest overall total costs.\n",
    "\n",
    "**Detailed Breakdown**\n",
    "> 1. **Lead Time Performance (Speed)**:\n",
    "\n",
    ">>>**Best**: Supplier 3 is the most efficient with an average lead time of just 14.33 days.\n",
    "\n",
    ">>>**Worst**: Supplier 4 has the longest average lead time at 17.00 days, which could indicate potential bottlenecks or inefficiencies in their process.\n",
    "\n",
    "> 2. **Shipping Cost Performance (Cost-Effectiveness)**:\n",
    "\n",
    ">>>**Lowest Cost**: Supplier 3 is also the most cost-effective, with an average shipping cost of $4.79.\n",
    "\n",
    ">>>**Highest Cost**: Supplier 5 has the highest average shipping cost at $5.79, but all other suppliers are in a similar range.\n",
    "\n",
    ">3. **Total Costs (Overall Spend)**:\n",
    "\n",
    ">>> Supplier 1 accounts for the highest total costs at $15,520.98. This could be due to a higher volume of business with this supplier or a combination of their higher lead times and shipping costs.\n",
    "\n",
    ">>>Supplier 3 has the lowest total costs at $7,032.00, further solidifying its position as a top-tier partner.\n",
    "\n",
    "**Key Takeaway**\n",
    "Supplier 3 is a high-performing partner that excels in both speed and cost. We should consider relying more heavily on this supplier if possible.\n",
    "\n",
    "Conversely, the performance of Supplier 4 and Supplier 1 warrants further investigation. We may need to look into the specific products they supply, their quality metrics, or their pricing to understand if the longer lead times and higher costs are justified."
   ]
  },
  {
   "cell_type": "code",
   "execution_count": 22,
   "id": "1f586ab6",
   "metadata": {},
   "outputs": [
    {
     "name": "stdout",
     "output_type": "stream",
     "text": [
      "\n",
      "--- Quality and Risk ---\n",
      "Inspection Results:\n",
      " Inspection results\n",
      "Pending    41\n",
      "Fail       36\n",
      "Pass       23\n",
      "Name: count, dtype: int64\n",
      "\n",
      "Average Defect Rate by Supplier:\n",
      " Supplier name\n",
      "Supplier 5    2.665408\n",
      "Supplier 3    2.465786\n",
      "Supplier 2    2.362750\n",
      "Supplier 4    2.337397\n",
      "Supplier 1    1.803630\n",
      "Name: Defect rates, dtype: float64\n"
     ]
    }
   ],
   "source": [
    "# 3. Quality and Risk\n",
    "print(\"\\n--- Quality and Risk ---\")\n",
    "inspection_results = df['Inspection results'].value_counts()\n",
    "print(\"Inspection Results:\\n\", inspection_results)\n",
    "defect_rate_by_supplier = df.groupby('Supplier name')['Defect rates'].mean().sort_values(ascending=False)\n",
    "print(\"\\nAverage Defect Rate by Supplier:\\n\", defect_rate_by_supplier)\n"
   ]
  },
  {
   "cell_type": "code",
   "execution_count": 23,
   "id": "3e8b12a1",
   "metadata": {},
   "outputs": [
    {
     "data": {
      "image/png": "[encoded data removed]",
      "text/plain": [
       "<Figure size 800x800 with 1 Axes>"
      ]
     },
     "metadata": {},
     "output_type": "display_data"
    }
   ],
   "source": [
    "# Visualize inspection results\n",
    "plt.figure(figsize=(8, 8))\n",
    "plt.pie(inspection_results, labels=inspection_results.index, autopct='%1.1f%%', colors=sns.color_palette('pastel'))\n",
    "plt.title('Distribution of Inspection Results')\n",
    "plt.show()\n"
   ]
  },
  {
   "cell_type": "markdown",
   "id": "73cd156f",
   "metadata": {},
   "source": [
    "Based on the Results above, the ***quality control process appears to have significant issues**. The high number of Failed and Pending inspections suggests major quality assurance and operational bottlenecks. While the average defect rates across all suppliers are relatively low, Supplier 5 is a potential risk as they have the highest average defect rate.\n",
    "\n",
    "**Detailed Breakdown**\n",
    ">**Inspection Results (Overall Quality Control)**:\n",
    "\n",
    ">>>>**High Failure Rate**: The number of failed inspections (36) is a major cause for concern. This indicates that a large portion of incoming goods do not meet your quality standards.\n",
    "\n",
    ">>>>**Significant Backlog**: The highest count is for Pending inspections (41). This suggests a bottleneck in your quality control process, which could be delaying inventory and impacting delivery times.\n",
    "\n",
    ">>>>**Low Pass Rate**: The number of successful inspections (Pass) is the lowest (23), highlighting a pervasive quality issue with your incoming shipments.\n",
    "\n",
    ">**Average Defect Rate by Supplier**:\n",
    "\n",
    ">>>>**Highest Risk**: Supplier 5 has the highest average defect rate at 2.67%. Although this seems like a small number, it suggests a higher probability of receiving faulty products from this supplier compared to others.\n",
    "\n",
    ">>>>**Lowest Risk**: Supplier 1 has the lowest average defect rate at 1.80%, making them the most reliable supplier in terms of product quality.\n",
    "\n",
    "**Key Takeaway**\n",
    "There is need to immediately address the quality control process. The high volume of failed and pending inspections is a critical operational problem that could lead to customer dissatisfaction and increased costs. A thorough investigation of the products and suppliers associated with these failed inspections is necessary to prevent future issues. It is also recommended to monitor Supplier 5 more closely."
   ]
  },
  {
   "cell_type": "code",
   "execution_count": 24,
   "id": "850218f5",
   "metadata": {},
   "outputs": [
    {
     "data": {
      "image/png": "[encoded data removed]",
      "text/plain": [
       "<Figure size 1000x600 with 1 Axes>"
      ]
     },
     "metadata": {},
     "output_type": "display_data"
    }
   ],
   "source": [
    "# 4. Stock vs. Sales & Revenue (Scatter Plots)\n",
    "plt.figure(figsize=(10, 6))\n",
    "sns.scatterplot(x='Stock levels', y='Number of products sold', data=df)\n",
    "plt.title('Number of Products Sold vs. Stock Levels')\n",
    "plt.xlabel('Stock Levels')\n",
    "plt.ylabel('Number of Products Sold')\n",
    "plt.savefig('plot_stock_vs_sales.png')\n",
    "plt.show()"
   ]
  },
  {
   "cell_type": "markdown",
   "id": "442677f1",
   "metadata": {},
   "source": [
    "The chart shows no clear correlation between stock levels (x-axis) and products sold (y-axis), with data points widely scattered.\n",
    "\n",
    "**Key Points**:\n",
    "\n",
    ">>**No Correlation**: Stock levels do not directly affect sales.\n",
    "\n",
    ">>**Data Range**: Stock varies from 0 to 100; sales range from 0 to nearly 1000.\n",
    "\n",
    ">>**Sales Variability**: High (80-100) and low (0-20) stock levels show inconsistent sales.\n",
    "\n",
    ">>**Max Sales**: Highest sales (950-1000) occur at various stock levels.\n",
    "\n",
    "**Conclusion**:\n",
    "\n",
    "Sales are influenced by factors beyond stock levels, such as demand, marketing, and external conditions. Adjusting inventory alone may not effectively boost sales."
   ]
  },
  {
   "cell_type": "code",
   "execution_count": 25,
   "id": "8b116eab",
   "metadata": {},
   "outputs": [
    {
     "data": {
      "image/png": "[encoded data removed]",
      "text/plain": [
       "<Figure size 1000x600 with 1 Axes>"
      ]
     },
     "metadata": {},
     "output_type": "display_data"
    }
   ],
   "source": [
    "plt.figure(figsize=(10, 6))\n",
    "sns.scatterplot(x='Availability', y='Revenue generated', data=df)\n",
    "plt.title('Revenue Generated vs. Availability')\n",
    "plt.xlabel('Availability')\n",
    "plt.ylabel('Revenue Generated ($)')\n",
    "plt.savefig('plot_availability_vs_revenue.png')\n",
    "plt.show()"
   ]
  },
  {
   "cell_type": "markdown",
   "id": "9e0d30d4",
   "metadata": {},
   "source": [
    "The scatter plot \"Revenue Generated vs. Availability\" illustrates the relationship between product availability (x-axis) and revenue (y-axis).\n",
    "\n",
    "**Key Observations**:\n",
    "\n",
    ">>**No Correlation**: Availability does not clearly impact revenue; high stock doesn't ensure high sales.\n",
    "\n",
    ">>**Data Range**: Availability varies from 0 to 100; revenue ranges from under $1,000 to nearly $10,000.\n",
    "\n",
    ">>**High Revenue with Low Availability**: Significant revenue can occur with low stock (0-20).\n",
    "\n",
    ">>**Low Revenue with High Availability**: Many high stock levels (80-100) show low revenue (under $2,000).\n",
    "\n",
    ">>**Variable Outcomes**: Revenue is inconsistent across availability levels.\n",
    "\n",
    "**Conclusion**:\n",
    "\n",
    "Availability is not the main driver of revenue. Other influencing factors include:\n",
    "\n",
    ">>**Product Price**: High-priced items can generate more revenue at low availability.\n",
    "\n",
    ">>**Demand**: Popular products sell out quickly.\n",
    "\n",
    ">>**Marketing Efforts**: Effective campaigns boost sales regardless of stock.\n",
    "\n",
    ">>**Seasonal Promotions**: Revenue may spike during specific events.\n",
    "\n",
    "Companies should focus on these factors."
   ]
  },
  {
   "cell_type": "code",
   "execution_count": 26,
   "id": "d324c6a7",
   "metadata": {},
   "outputs": [
    {
     "data": {
      "image/png": "[encoded data removed]",
      "text/plain": [
       "<Figure size 1000x600 with 1 Axes>"
      ]
     },
     "metadata": {},
     "output_type": "display_data"
    }
   ],
   "source": [
    "# 5. Manufacturing Costs & Production vs. Defect Rates (Scatter Plots)\n",
    "plt.figure(figsize=(10, 6))\n",
    "sns.scatterplot(x='Manufacturing costs', y='Defect rates', data=df)\n",
    "plt.title('Defect Rates vs. Manufacturing Costs')\n",
    "plt.xlabel('Manufacturing Costs ($)')\n",
    "plt.ylabel('Defect Rates (%)')\n",
    "plt.savefig('plot_manuf_costs_vs_defects.png')\n",
    "plt.show()"
   ]
  },
  {
   "cell_type": "markdown",
   "id": "afaad8fe",
   "metadata": {},
   "source": [
    "The scatter plot shows an inverse relationship between manufacturing costs and defect rates, with significant variability in the data points. Higher manufacturing costs generally correspond to lower defect rates, but some outliers exist."
   ]
  },
  {
   "cell_type": "code",
   "execution_count": 27,
   "id": "94c9de27",
   "metadata": {},
   "outputs": [
    {
     "data": {
      "image/png": "[encoded data removed]",
      "text/plain": [
       "<Figure size 1000x600 with 1 Axes>"
      ]
     },
     "metadata": {},
     "output_type": "display_data"
    },
    {
     "name": "stdout",
     "output_type": "stream",
     "text": [
      "\n",
      "All plots generated and saved.\n"
     ]
    }
   ],
   "source": [
    "plt.figure(figsize=(10, 6))\n",
    "sns.scatterplot(x='Production volumes', y='Defect rates', data=df)\n",
    "plt.title('Defect Rates vs. Production Volumes')\n",
    "plt.xlabel('Production Volumes')\n",
    "plt.ylabel('Defect Rates (%)')\n",
    "plt.savefig('plot_prod_volumes_vs_defects.png')\n",
    "plt.show()\n",
    "\n",
    "print(\"\\nAll plots generated and saved.\")"
   ]
  },
  {
   "cell_type": "markdown",
   "id": "8ca09e3f",
   "metadata": {},
   "source": [
    "The Image above shows the relationship between defect rates and production volumes. There is an inverse trend, where higher production volumes generally correspond to lower defect rates, but significant variability is also observed."
   ]
  },
  {
   "cell_type": "code",
   "execution_count": null,
   "id": "de38eed4",
   "metadata": {},
   "outputs": [],
   "source": []
  },
  {
   "cell_type": "code",
   "execution_count": 28,
   "id": "89c7fb65",
   "metadata": {},
   "outputs": [
    {
     "name": "stdout",
     "output_type": "stream",
     "text": [
      "Count of Products by Customer Demographics and Product Type:\\n Product type           cosmetics  haircare  skincare\n",
      "Customer demographics                               \n",
      "Female                        10         2        13\n",
      "Male                           4        10         7\n",
      "Non-binary                     5         7        11\n",
      "Unknown                        7        15         9\n",
      "\\nPercentage of Products by Customer Demographics and Product Type:\\n Product type           cosmetics   haircare   skincare\n",
      "Customer demographics                                 \n",
      "Female                 40.000000   8.000000  52.000000\n",
      "Male                   19.047619  47.619048  33.333333\n",
      "Non-binary             21.739130  30.434783  47.826087\n",
      "Unknown                22.580645  48.387097  29.032258\n"
     ]
    },
    {
     "data": {
      "image/png": "[encoded data removed]",
      "text/plain": [
       "<Figure size 1200x800 with 1 Axes>"
      ]
     },
     "metadata": {},
     "output_type": "display_data"
    }
   ],
   "source": [
    "# Create a contingency table to show the relationship between CustomerSegment and Product type\n",
    "# This will show the count of each product type bought by each customer segment\n",
    "customer_product_cross = pd.crosstab(df['Customer demographics'], df['Product type'])\n",
    "print(\"Count of Products by Customer Demographics and Product Type:\\\\n\", customer_product_cross)\n",
    "\n",
    "# Normalize the crosstab to get percentages, which makes it easier to compare segments\n",
    "customer_product_percentage = customer_product_cross.div(customer_product_cross.sum(axis=1), axis=0) * 100\n",
    "print(\"\\\\nPercentage of Products by Customer Demographics and Product Type:\\\\n\", customer_product_percentage)\n",
    "\n",
    "# Visualize the relationship using a stacked bar chart\n",
    "customer_product_percentage.plot(kind='bar', stacked=True, figsize=(12, 8))\n",
    "plt.title('Product Type Distribution by Customer Demographics')\n",
    "plt.xlabel('Customer Demographics')\n",
    "plt.ylabel('Percentage of Purchases')\n",
    "plt.xticks(rotation=45, ha='right')\n",
    "plt.legend(title='Product Type', bbox_to_anchor=(1.05, 1), loc='upper left')\n",
    "plt.tight_layout()\n",
    "plt.savefig('plot_customer_demographics_vs_products.png')\n",
    "plt.show()"
   ]
  },
  {
   "cell_type": "markdown",
   "id": "2caf558d",
   "metadata": {},
   "source": [
    "**Step 5: Reporting and Dashboarding with Power BI**\n",
    "Use Power BI which is a perfect for creating an interactive, client-facing report.\n",
    "Export the Data to Power Bi\n"
   ]
  },
  {
   "cell_type": "code",
   "execution_count": null,
   "id": "0370576e",
   "metadata": {},
   "outputs": [],
   "source": []
  },
  {
   "cell_type": "code",
   "execution_count": 29,
   "id": "090fef2d",
   "metadata": {},
   "outputs": [
    {
     "name": "stdout",
     "output_type": "stream",
     "text": [
      "Your cleaned and engineered data has been saved to 'supply_chain_data_cleaned.csv'\n"
     ]
    }
   ],
   "source": [
    "\n",
    "# Save the DataFrame to a new CSV file Using index=False\n",
    "df.to_csv('supply_chain_data_cleaned.csv', index=False)\n",
    "\n",
    "print(\"Your cleaned and engineered data has been saved to 'supply_chain_data_cleaned.csv'\")"
   ]
  },
  {
   "cell_type": "code",
   "execution_count": null,
   "id": "d4460928",
   "metadata": {},
   "outputs": [],
   "source": []
  }
 ],
 "metadata": {
  "kernelspec": {
   "display_name": "base",
   "language": "python",
   "name": "python3"
  },
  "language_info": {
   "codemirror_mode": {
    "name": "ipython",
    "version": 3
   },
   "file_extension": ".py",
   "mimetype": "text/x-python",
   "name": "python",
   "nbconvert_exporter": "python",
   "pygments_lexer": "ipython3",
   "version": "3.12.4"
  }
 },
 "nbformat": 4,
 "nbformat_minor": 5
}
